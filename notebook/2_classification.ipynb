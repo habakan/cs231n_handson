{
  "nbformat": 4,
  "nbformat_minor": 0,
  "metadata": {
    "colab": {
      "provenance": [],
      "collapsed_sections": [],
      "authorship_tag": "ABX9TyPWvL5uxVHJKxPdPOgMWFo7",
      "include_colab_link": true
    },
    "kernelspec": {
      "name": "python3",
      "display_name": "Python 3"
    },
    "language_info": {
      "name": "python"
    }
  },
  "cells": [
    {
      "cell_type": "markdown",
      "metadata": {
        "id": "view-in-github",
        "colab_type": "text"
      },
      "source": [
        "<a href=\"https://colab.research.google.com/github/habakan/cs231n_handson/blob/main/notebook/2_classification.ipynb\" target=\"_parent\"><img src=\"https://colab.research.google.com/assets/colab-badge.svg\" alt=\"Open In Colab\"/></a>"
      ]
    },
    {
      "cell_type": "markdown",
      "source": [
        "## preparation of dataset"
      ],
      "metadata": {
        "id": "VgONDuIynmwg"
      }
    },
    {
      "cell_type": "code",
      "execution_count": 1,
      "metadata": {
        "colab": {
          "base_uri": "https://localhost:8080/"
        },
        "id": "96Fm1M26nXYu",
        "outputId": "5d0aec91-5a3f-4e7a-959a-505fe45af34d"
      },
      "outputs": [
        {
          "output_type": "stream",
          "name": "stdout",
          "text": [
            "--2022-11-09 14:27:24--  https://www.cs.toronto.edu/~kriz/cifar-10-python.tar.gz\n",
            "Resolving www.cs.toronto.edu (www.cs.toronto.edu)... 128.100.3.30\n",
            "Connecting to www.cs.toronto.edu (www.cs.toronto.edu)|128.100.3.30|:443... connected.\n",
            "HTTP request sent, awaiting response... 200 OK\n",
            "Length: 170498071 (163M) [application/x-gzip]\n",
            "Saving to: ‘cifar-10-python.tar.gz.1’\n",
            "\n",
            "cifar-10-python.tar 100%[===================>] 162.60M  94.7MB/s    in 1.7s    \n",
            "\n",
            "2022-11-09 14:27:26 (94.7 MB/s) - ‘cifar-10-python.tar.gz.1’ saved [170498071/170498071]\n",
            "\n"
          ]
        }
      ],
      "source": [
        "!wget https://www.cs.toronto.edu/~kriz/cifar-10-python.tar.gz"
      ]
    },
    {
      "cell_type": "code",
      "source": [
        "!tar -zxvf cifar-10-python.tar.gz"
      ],
      "metadata": {
        "colab": {
          "base_uri": "https://localhost:8080/"
        },
        "id": "uSVSogdentLv",
        "outputId": "c2b4ceb7-4ce1-417e-b135-d5e7143c0980"
      },
      "execution_count": 2,
      "outputs": [
        {
          "output_type": "stream",
          "name": "stdout",
          "text": [
            "cifar-10-batches-py/\n",
            "cifar-10-batches-py/data_batch_4\n",
            "cifar-10-batches-py/readme.html\n",
            "cifar-10-batches-py/test_batch\n",
            "cifar-10-batches-py/data_batch_3\n",
            "cifar-10-batches-py/batches.meta\n",
            "cifar-10-batches-py/data_batch_2\n",
            "cifar-10-batches-py/data_batch_5\n",
            "cifar-10-batches-py/data_batch_1\n"
          ]
        }
      ]
    },
    {
      "cell_type": "code",
      "source": [
        "!cat cifar-10-batches-py/readme.html"
      ],
      "metadata": {
        "colab": {
          "base_uri": "https://localhost:8080/"
        },
        "id": "-PLKrzfkn58T",
        "outputId": "bddbb56e-6c73-4bff-dad6-b86a60417a3a"
      },
      "execution_count": 3,
      "outputs": [
        {
          "output_type": "stream",
          "name": "stdout",
          "text": [
            "<meta HTTP-EQUIV=\"REFRESH\" content=\"0; url=http://www.cs.toronto.edu/~kriz/cifar.html\">\n"
          ]
        }
      ]
    },
    {
      "cell_type": "code",
      "source": [
        "import os\n",
        "import pickle\n",
        "import numpy as np\n",
        "\n",
        "def unpickle(file_path):\n",
        "  with open(file_path, 'rb') as fo:\n",
        "    data_dict = pickle.load(fo, encoding='bytes')\n",
        "  return data_dict\n",
        "\n",
        "def load_CIFAR10(data_dir):\n",
        "  X_train_list = []\n",
        "  y_train_list = []\n",
        "\n",
        "  for train_idx in [1, 2, 3, 4, 5]:\n",
        "    data_dict = unpickle(os.path.join(data_dir, 'data_batch_'+str(train_idx)))\n",
        "    X_train_list.append(data_dict[b'data'])\n",
        "    y_train_list.append(data_dict[b'labels'])\n",
        "\n",
        "  data_dict = unpickle(os.path.join(data_dir, 'test_batch'))\n",
        "  X_test = data_dict[b'data']\n",
        "  y_test = data_dict[b'labels']\n",
        "  return np.vstack(X_train_list), np.array(y_train_list).reshape(-1), X_test, y_test"
      ],
      "metadata": {
        "id": "f2XK1dskn-XM"
      },
      "execution_count": 4,
      "outputs": []
    },
    {
      "cell_type": "code",
      "source": [
        "Xtr, Ytr, Xte, Yte = load_CIFAR10('./cifar-10-batches-py')"
      ],
      "metadata": {
        "id": "4-DizpN5ozzz"
      },
      "execution_count": 5,
      "outputs": []
    },
    {
      "cell_type": "code",
      "source": [
        "Xtr_rows = Xtr.reshape(Xtr.shape[0], 32 * 32 * 3) # Xtr_rows becomes 50000 x 3072\n",
        "Xte_rows = Xte.reshape(Xte.shape[0], 32 * 32 * 3) # Xte_rows becomes 10000 x 3072"
      ],
      "metadata": {
        "id": "OVcgBAHTrZYz"
      },
      "execution_count": 6,
      "outputs": []
    },
    {
      "cell_type": "code",
      "source": [
        "class NearestNeighbor(object):\n",
        "  def __init__(self):\n",
        "    pass\n",
        "\n",
        "  def train(self, X, y):\n",
        "    \"\"\" X is N x D where each row is an example. Y is 1-dimension of size N \"\"\"\n",
        "    # the nearest neighbor classifier simply remembers all the training data\n",
        "    self.Xtr = X\n",
        "    self.ytr = y\n",
        "\n",
        "  def predict(self, X, k=1):\n",
        "    \"\"\" X is N x D where each row is an example we wish to predict label for \"\"\"\n",
        "    num_test = X.shape[0]\n",
        "    # lets make sure that the output type matches the input type\n",
        "    Ypred = np.zeros(num_test, dtype = self.ytr.dtype)\n",
        "\n",
        "    # loop over all test rows\n",
        "    for i in range(num_test):\n",
        "      # find the nearest training image to the i'th test image\n",
        "      # using the L1 distance (sum of absolute value differences)\n",
        "      distances = np.sum(np.abs(self.Xtr - X[i,:]), axis = 1)\n",
        "      '''\n",
        "      min_index = np.argmin(distances) # get the index with smallest distance\n",
        "      Ypred[i] = self.ytr[min_index] # predict the label of the nearest example\n",
        "      '''\n",
        "      sort_index = np.argsort(distances)\n",
        "      y_pred_candidates = self.ytr[sort_index[:k]]\n",
        "      if len(y_pred_candidates) > 1:\n",
        "        uniqs, counts = np.unique(y_pred_candidates, return_counts=True)\n",
        "        Ypred[i] = uniqs[counts == np.amax(counts)].max()\n",
        "      else:\n",
        "        Ypred[i] = y_pred_candidates[0]\n",
        "\n",
        "    return Ypred"
      ],
      "metadata": {
        "id": "OsUB9XBXo5wG"
      },
      "execution_count": 7,
      "outputs": []
    },
    {
      "cell_type": "code",
      "source": [
        "# assume we have Xtr_rows, Ytr, Xte_rows, Yte as before\n",
        "# recall Xtr_rows is 50,000 x 3072 matrix\n",
        "Xval_rows = Xtr_rows[:1000, :] # take first 1000 for validation\n",
        "Yval = Ytr[:1000]\n",
        "Xtr_rows = Xtr_rows[1000:, :] # keep last 49,000 for train\n",
        "Ytr = Ytr[1000:]\n",
        "\n",
        "# find hyperparameters that work best on the validation set\n",
        "validation_accuracies = []\n",
        "for k in [1, 3, 5, 10, 20, 50, 100]:\n",
        "\n",
        "  # use a particular value of k and evaluation on validation data\n",
        "  nn = NearestNeighbor()\n",
        "  nn.train(Xtr_rows, Ytr)\n",
        "  # here we assume a modified NearestNeighbor class that can take a k as input\n",
        "  Yval_predict = nn.predict(Xval_rows, k = k)\n",
        "  acc = np.mean(Yval_predict == Yval)\n",
        "  print('accuracy: %f' % (acc,))\n",
        "\n",
        "  # keep track of what works on the validation set\n",
        "  validation_accuracies.append((k, acc))"
      ],
      "metadata": {
        "colab": {
          "base_uri": "https://localhost:8080/"
        },
        "id": "4ZI1xWx1qjX7",
        "outputId": "ce37efae-6b1e-497b-e67d-693f6b313754"
      },
      "execution_count": 8,
      "outputs": [
        {
          "output_type": "stream",
          "name": "stdout",
          "text": [
            "accuracy: 0.223000\n",
            "accuracy: 0.230000\n",
            "accuracy: 0.257000\n",
            "accuracy: 0.252000\n",
            "accuracy: 0.241000\n",
            "accuracy: 0.219000\n",
            "accuracy: 0.203000\n"
          ]
        }
      ]
    },
    {
      "cell_type": "code",
      "source": [
        "import matplotlib.pyplot as plt\n",
        "\n",
        "k_list = [validation[0] for validation in validation_accuracies]\n",
        "acc_list = [validation[1] for validation in validation_accuracies]\n",
        "\n",
        "plt.plot(k_list, acc_list)\n",
        "plt.show()"
      ],
      "metadata": {
        "colab": {
          "base_uri": "https://localhost:8080/",
          "height": 265
        },
        "id": "BRNSTYkutqSg",
        "outputId": "5d6e0ee6-df4d-4e6a-94c2-4d83c6164e9c"
      },
      "execution_count": 9,
      "outputs": [
        {
          "output_type": "display_data",
          "data": {
            "text/plain": [
              "<Figure size 432x288 with 1 Axes>"
            ],
            "image/png": "[encoded data removed]"
          },
          "metadata": {
            "needs_background": "light"
          }
        }
      ]
    },
    {
      "cell_type": "code",
      "source": [],
      "metadata": {
        "id": "J9RxhfqsyJuH"
      },
      "execution_count": 9,
      "outputs": []
    }
  ]
}